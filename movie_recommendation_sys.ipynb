{
 "cells": [
  {
   "cell_type": "markdown",
   "id": "a2a003b8",
   "metadata": {},
   "source": [
    "# Step 1: Install & Import Required Libraries"
   ]
  },
  {
   "cell_type": "code",
   "execution_count": null,
   "id": "f9ac3c4a",
   "metadata": {},
   "outputs": [],
   "source": [
    "\n",
    "import pandas as pd\n",
    "import numpy as np\n",
    "from sklearn.metrics.pairwise import cosine_similarity\n",
    "from sklearn.decomposition import TruncatedSVD\n",
    "from sklearn.model_selection import train_test_split\n",
    "import ipywidgets as widgets\n",
    "from IPython.display import display\n",
    "\n",
    "# For reproducibility\n",
    "np.random.seed(42)\n"
   ]
  },
  {
   "cell_type": "markdown",
   "id": "c84901a5",
   "metadata": {},
   "source": [
    "# Step 2: Load Dataset (or generate synthetic if not available)"
   ]
  },
  {
   "cell_type": "code",
   "execution_count": null,
   "id": "25160611",
   "metadata": {},
   "outputs": [],
   "source": [
    "\n",
    "try:\n",
    "    # Attempt to load MovieLens 100k dataset if available\n",
    "    import zipfile, requests, io\n",
    "    url = \"https://files.grouplens.org/datasets/movielens/ml-latest-small.zip\"\n",
    "    r = requests.get(url)\n",
    "    z = zipfile.ZipFile(io.BytesIO(r.content))\n",
    "    ratings = pd.read_csv(z.open('ml-latest-small/ratings.csv'))\n",
    "    movies = pd.read_csv(z.open('ml-latest-small/movies.csv'))\n",
    "except Exception as e:\n",
    "    # Generate synthetic dataset\n",
    "    user_ids = np.arange(1, 51)\n",
    "    movie_ids = np.arange(1, 101)\n",
    "    ratings_data = []\n",
    "    for u in user_ids:\n",
    "        rated_movies = np.random.choice(movie_ids, size=20, replace=False)\n",
    "        for m in rated_movies:\n",
    "            ratings_data.append((u, m, np.random.randint(1, 6)))\n",
    "    ratings = pd.DataFrame(ratings_data, columns=[\"userId\", \"movieId\", \"rating\"])\n",
    "    movies = pd.DataFrame({\n",
    "        \"movieId\": movie_ids,\n",
    "        \"title\": [f\"Movie {i}\" for i in movie_ids]\n",
    "    })\n",
    "\n",
    "ratings.head(), movies.head()\n"
   ]
  },
  {
   "cell_type": "markdown",
   "id": "47f5bb16",
   "metadata": {},
   "source": [
    "# Step 3: Create User–Item Matrix"
   ]
  },
  {
   "cell_type": "code",
   "execution_count": null,
   "id": "8e2e25c8",
   "metadata": {},
   "outputs": [],
   "source": [
    "\n",
    "user_item_matrix = ratings.pivot_table(index='userId', columns='movieId', values='rating').fillna(0)\n",
    "user_item_matrix.head()\n"
   ]
  },
  {
   "cell_type": "markdown",
   "id": "a3eb8225",
   "metadata": {},
   "source": [
    "# Step 4: Popularity Baseline"
   ]
  },
  {
   "cell_type": "code",
   "execution_count": null,
   "id": "4296f1fe",
   "metadata": {},
   "outputs": [],
   "source": [
    "\n",
    "movie_mean_ratings = ratings.groupby('movieId')['rating'].mean()\n",
    "top_movies = movie_mean_ratings.sort_values(ascending=False).head(10).index\n",
    "movies[movies['movieId'].isin(top_movies)]\n"
   ]
  },
  {
   "cell_type": "markdown",
   "id": "12f69aaf",
   "metadata": {},
   "source": [
    "# Step 5: Item-based Collaborative Filtering (Cosine Similarity)"
   ]
  },
  {
   "cell_type": "code",
   "execution_count": null,
   "id": "612d2fec",
   "metadata": {},
   "outputs": [],
   "source": [
    "\n",
    "item_similarity = cosine_similarity(user_item_matrix.T)\n",
    "item_similarity_df = pd.DataFrame(item_similarity, index=user_item_matrix.columns, columns=user_item_matrix.columns)\n",
    "\n",
    "def recommend_item_based(movie_id, top_n=5):\n",
    "    similar_scores = item_similarity_df[movie_id].sort_values(ascending=False)[1:top_n+1]\n",
    "    return movies[movies['movieId'].isin(similar_scores.index)]\n",
    "\n",
    "recommend_item_based(movie_id=user_item_matrix.columns[0])\n"
   ]
  },
  {
   "cell_type": "markdown",
   "id": "636b245f",
   "metadata": {},
   "source": [
    "# Step 6: Matrix Factorization with TruncatedSVD"
   ]
  },
  {
   "cell_type": "code",
   "execution_count": null,
   "id": "e96d4b8a",
   "metadata": {},
   "outputs": [],
   "source": [
    "\n",
    "svd = TruncatedSVD(n_components=20)\n",
    "latent_matrix = svd.fit_transform(user_item_matrix)\n",
    "reconstructed = np.dot(latent_matrix, svd.components_)\n",
    "\n",
    "reconstructed_df = pd.DataFrame(reconstructed, index=user_item_matrix.index, columns=user_item_matrix.columns)\n",
    "\n",
    "def recommend_svd(user_id, top_n=5):\n",
    "    user_ratings = reconstructed_df.loc[user_id]\n",
    "    already_rated = ratings[ratings.userId == user_id]['movieId']\n",
    "    recommendations = user_ratings.drop(already_rated).sort_values(ascending=False).head(top_n)\n",
    "    return movies[movies['movieId'].isin(recommendations.index)]\n",
    "\n",
    "recommend_svd(user_id=1)\n"
   ]
  },
  {
   "cell_type": "markdown",
   "id": "4cfe3e02",
   "metadata": {},
   "source": [
    "# Step 7: Interactive Widget"
   ]
  },
  {
   "cell_type": "code",
   "execution_count": null,
   "id": "ee1a8c8f",
   "metadata": {},
   "outputs": [],
   "source": [
    "\n",
    "def interactive_recommender(user_id):\n",
    "    display(recommend_svd(user_id))\n",
    "\n",
    "user_selector = widgets.IntSlider(min=1, max=user_item_matrix.index.max(), step=1, value=1)\n",
    "widgets.interact(interactive_recommender, user_id=user_selector);\n"
   ]
  }
 ],
 "metadata": {},
 "nbformat": 4,
 "nbformat_minor": 5
}
